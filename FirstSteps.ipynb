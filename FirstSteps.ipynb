{
 "cells": [
  {
   "cell_type": "markdown",
   "metadata": {},
   "source": [
    "# Julia - First steps"
   ]
  },
  {
   "cell_type": "code",
   "execution_count": 1,
   "metadata": {},
   "outputs": [
    {
     "data": {
      "text/plain": [
       "100"
      ]
     },
     "execution_count": 1,
     "metadata": {},
     "output_type": "execute_result"
    }
   ],
   "source": [
    "10^2"
   ]
  },
  {
   "cell_type": "code",
   "execution_count": 2,
   "metadata": {},
   "outputs": [
    {
     "data": {
      "text/plain": [
       "4040051"
      ]
     },
     "execution_count": 2,
     "metadata": {},
     "output_type": "execute_result"
    }
   ],
   "source": [
    "10 + 10\n",
    "2003 * 2017  # output is shown only for the last calculation"
   ]
  },
  {
   "cell_type": "markdown",
   "metadata": {},
   "source": [
    "## Julia - Features\n",
    "\n",
    "- Julia looks like an interpreted language, but it is not;\n",
    "\n",
    "\n",
    "## Running programs\n",
    "\n",
    "- IJulia Notebooks are good for exploratory learning and analysis.\n",
    "- Actual projects may be Julia code files with a `.jl` extension\n",
    "   \n",
    "## Installing IJulia kernel to existing `Jupyter`\n",
    "\n",
    "- My preferred choice for `jupyter` is to use the Anaconda's offering\n",
    "- Standalone IJulia kernel can be installed using the command `Pkg.add(\"IJulia\")` on the kernel\n",
    "- However, this creates a local copy of Miniconda and installs `Jupyter` on the local Miniconda installation.\n",
    "- To overcome this \"problem\":\n",
    "  - First create the environment variable `JUPYTER` and add the path of `Jupyter` to it\n",
    "    > `JUPYTER=\"<path-to-anaconda-scripts>\\jupyter\"` or use Windows environment variables to add `JUPYTER` \n",
    "  - Add `jupyter` to path, so that it is 'findable' by Julia\n",
    "    > `export PATH=$PATH:<path-to-jupyter>` or use Windows environment variables to set the path\n",
    "  - Next, open the Julia REPL and type:\n",
    "    > `ENV[\"JUPYTER\"]=\"jupyter\"; Pkg.add(\"IJulia\")` \n",
    "  - Since by virtue of `$PATH`, `jupyter` is visible to Julia, it won't install Miniconda again\n",
    "  \n",
    "## Running the Julia notebook\n",
    "\n",
    "- The traditional way is to open the Julia REPL and type the following:\n",
    "  > `using IJulia`   \n",
    "   `notebook()`\n",
    "- Problems:\n",
    "  1. It doesn't open `jupyter` in the folder you want it to open; always home folder is selected (I HATE THIS)\n",
    "  2. To close you need to first select `File -> Close and Halt` in the browser/notebook\n",
    "     - Then proceed to the REPL to press <kbd>Ctrl+C</kbd>\n",
    "     - This can get messy, as many times <kbd>Ctrl+C</kbd> on the REPL is non-responsive\n",
    "\n",
    "- My (hack-ish) solution to the above problems:\n",
    "  1. Open the command prompt/terminal/Anaconda prompt and `cd` to the folder of choice\n",
    "  2. Open `jupyter` by typing `jupyter` in the command prompt \n",
    "     - This opens up `Jupyter`\n",
    "  3. Create a new Julia kernel using `New` on the notebook, or\n",
    "  4. Open an existing `ipynb` notebook file <br> <br>\n",
    "  \n",
    "  5. To close the kernel, simply select `File -> Close and Halt` in the browser/notebook and press <kbd>Ctrl+C</kbd> in the terminal"
   ]
  },
  {
   "cell_type": "markdown",
   "metadata": {},
   "source": [
    "## Julia - REPL\n",
    "\n",
    "R-E-P-L stands for Read-Evaluate-Print-Loop\n",
    "When we execute a statement like below, the REPL kicks in\n",
    "  - It reads the line of code\n",
    "  - Evaluates it (in this case it is the `println` function)\n",
    "  - Prints the output\n",
    "  - Loops back to "
   ]
  },
  {
   "cell_type": "code",
   "execution_count": 3,
   "metadata": {},
   "outputs": [
    {
     "name": "stdout",
     "output_type": "stream",
     "text": [
      "Hello, world!\n"
     ]
    }
   ],
   "source": [
    "println(\"Hello, world!\")"
   ]
  },
  {
   "cell_type": "markdown",
   "metadata": {},
   "source": []
  }
 ],
 "metadata": {
  "kernelspec": {
   "display_name": "Julia 0.6.2",
   "language": "julia",
   "name": "julia-0.6"
  },
  "language_info": {
   "file_extension": ".jl",
   "mimetype": "application/julia",
   "name": "julia",
   "version": "0.6.2"
  }
 },
 "nbformat": 4,
 "nbformat_minor": 2
}

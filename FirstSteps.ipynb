{
 "cells": [
  {
   "cell_type": "markdown",
   "metadata": {},
   "source": [
    "# Julia - First steps"
   ]
  },
  {
   "cell_type": "code",
   "execution_count": 1,
   "metadata": {},
   "outputs": [
    {
     "data": {
      "text/plain": [
       "100"
      ]
     },
     "execution_count": 1,
     "metadata": {},
     "output_type": "execute_result"
    }
   ],
   "source": [
    "10^2"
   ]
  },
  {
   "cell_type": "code",
   "execution_count": 2,
   "metadata": {},
   "outputs": [
    {
     "data": {
      "text/plain": [
       "4040051"
      ]
     },
     "execution_count": 2,
     "metadata": {},
     "output_type": "execute_result"
    }
   ],
   "source": [
    "10 + 10\n",
    "2003 * 2017  # output is shown only for the last calculation"
   ]
  },
  {
   "cell_type": "markdown",
   "metadata": {},
   "source": [
    "## Julia - Features\n",
    "\n",
    "- Julia looks like an interpreted language, but it is not;\n",
    "\n",
    "\n",
    "## Running programs\n",
    "\n",
    "- IJulia Notebooks are good for exploratory learning and analysis.\n",
    "- Actual projects may be Julia code files with a `.jl` extension\n",
    "   \n",
    "## Installing IJulia kernel to existing `Jupyter`\n",
    "\n",
    "- My preferred choice for `jupyter` is to use the Anaconda's offering\n",
    "- Standalone IJulia kernel can be installed using the command `Pkg.add(\"IJulia\")` on the kernel\n",
    "- However, this creates a local copy of Miniconda and installs `Jupyter` on the local Miniconda installation.\n",
    "- To overcome this \"problem\":\n",
    "  - First create the environment variable `JUPYTER` and add the path of `Jupyter` to it\n",
    "    > `JUPYTER=\"<path-to-anaconda-scripts>\\jupyter\"` or use Windows environment variables to add `JUPYTER` \n",
    "  - Add `jupyter` to path, so that it is 'findable' by Julia\n",
    "    > `export PATH=$PATH:<path-to-jupyter>` or use Windows environment variables to set the path\n",
    "  - Next, open the Julia REPL and type:\n",
    "    > `ENV[\"JUPYTER\"]=\"jupyter\"; Pkg.add(\"IJulia\")` \n",
    "  - Since by virtue of `$PATH`, `jupyter` is visible to Julia, it won't install Miniconda again\n",
    "  \n",
    "## Running the Julia notebook\n",
    "\n",
    "- The traditional way is to open the Julia REPL and type the following:\n",
    "  > `using IJulia`   \n",
    "   `notebook()`\n",
    "- Problems:\n",
    "  1. It doesn't open `jupyter` in the folder you want it to open; always home folder is selected (I HATE THIS)\n",
    "  2. To close you need to first select `File -> Close and Halt` in the browser/notebook\n",
    "     - Then proceed to the REPL to press <kbd>Ctrl+C</kbd>\n",
    "     - This can get messy, as many times <kbd>Ctrl+C</kbd> on the REPL is non-responsive\n",
    "\n",
    "- My (hack-ish) solution to the above problems:\n",
    "  1. Open the command prompt/terminal/Anaconda prompt and `cd` to the folder of choice\n",
    "  2. Open `jupyter` by typing `jupyter` in the command prompt \n",
    "     - This opens up `Jupyter`\n",
    "  3. Create a new Julia kernel using `New` on the notebook, or\n",
    "  4. Open an existing `ipynb` notebook file <br> <br>\n",
    "  \n",
    "  5. To close the kernel, simply select `File -> Close and Halt` in the browser/notebook and press <kbd>Ctrl+C</kbd> in the terminal"
   ]
  },
  {
   "cell_type": "markdown",
   "metadata": {},
   "source": [
    "## Julia - REPL\n",
    "\n",
    "R-E-P-L stands for Read-Evaluate-Print-Loop\n",
    "When we execute a statement like below, the REPL kicks in\n",
    "  - It reads the line of code\n",
    "  - Evaluates it (in this case it is the `println` function)\n",
    "  - Prints the output\n",
    "  - Loops back to wait for the input\n",
    "  \n",
    "`\\#` indicates that the following text in the line is a comment"
   ]
  },
  {
   "cell_type": "code",
   "execution_count": 3,
   "metadata": {},
   "outputs": [
    {
     "name": "stdout",
     "output_type": "stream",
     "text": [
      "Hello, world!\n"
     ]
    }
   ],
   "source": [
    "println(\"Hello, world!\")"
   ]
  },
  {
   "cell_type": "markdown",
   "metadata": {},
   "source": [
    "## Datatypes\n",
    "\n",
    "### String\n",
    "\n",
    "- Strings are immutable in Julia\n",
    "- Written using double quotes `\" \"`; anything between double quote is a string\n",
    "- Combine strings uing `*` (concatenation)\n",
    "- Use `^` to repeat a string specified number of times\n",
    "- Escape characters are `\\` and `$` these cannot be printed using the `println()` function.\n",
    "- If we try to print `\\` or `$` Julia throws an error\n",
    "  - However, using `\\$` in a `println` call prints the `$` character"
   ]
  },
  {
   "cell_type": "code",
   "execution_count": 4,
   "metadata": {},
   "outputs": [
    {
     "name": "stdout",
     "output_type": "stream",
     "text": [
      "Hello World!!\n"
     ]
    }
   ],
   "source": [
    "# Combine strings\n",
    "println(\"Hello \" * \"World!!\")"
   ]
  },
  {
   "cell_type": "code",
   "execution_count": 5,
   "metadata": {},
   "outputs": [
    {
     "name": "stdout",
     "output_type": "stream",
     "text": [
      "HelloHello World!!! Again World!!! Again World!!! Again\n"
     ]
    }
   ],
   "source": [
    "# Repeat strings\n",
    "println(\"Hello\"^2 * \" World!!! Again\"^3)"
   ]
  },
  {
   "cell_type": "code",
   "execution_count": 6,
   "metadata": {},
   "outputs": [
    {
     "ename": "LoadError",
     "evalue": "\u001b[91msyntax: incomplete: invalid string syntax\u001b[39m",
     "output_type": "error",
     "traceback": [
      "\u001b[91msyntax: incomplete: invalid string syntax\u001b[39m",
      ""
     ]
    }
   ],
   "source": [
    "# Printing escape characters will result in a bug\n",
    "\"\\\""
   ]
  },
  {
   "cell_type": "code",
   "execution_count": 7,
   "metadata": {},
   "outputs": [
    {
     "ename": "LoadError",
     "evalue": "\u001b[91msyntax: invalid interpolation syntax: \"$\"\"\u001b[39m",
     "output_type": "error",
     "traceback": [
      "\u001b[91msyntax: invalid interpolation syntax: \"$\"\"\u001b[39m",
      ""
     ]
    }
   ],
   "source": [
    "# Printing escape characters will result in a bug\n",
    "\"$\""
   ]
  },
  {
   "cell_type": "code",
   "execution_count": 8,
   "metadata": {},
   "outputs": [
    {
     "name": "stdout",
     "output_type": "stream",
     "text": [
      "$\n"
     ]
    }
   ],
   "source": [
    "println(\"\\$\")"
   ]
  },
  {
   "cell_type": "code",
   "execution_count": 9,
   "metadata": {},
   "outputs": [
    {
     "name": "stdout",
     "output_type": "stream",
     "text": [
      "Hello! world!!Hello! world!!\n"
     ]
    }
   ],
   "source": [
    "# Exercise problem: What is the output of println((\"Hello!\" * \" world!!\")^2)\n",
    "println((\"Hello!\" * \" world!!\")^2)"
   ]
  },
  {
   "cell_type": "markdown",
   "metadata": {},
   "source": [
    "#### To access help about a function\n",
    "- Use `?` followed by function name\n",
    "> e.g., `?println`"
   ]
  },
  {
   "cell_type": "code",
   "execution_count": 10,
   "metadata": {},
   "outputs": [
    {
     "name": "stdout",
     "output_type": "stream",
     "text": [
      "search: \u001b[1mp\u001b[22m\u001b[1mr\u001b[22m\u001b[1mi\u001b[22m\u001b[1mn\u001b[22m\u001b[1mt\u001b[22m\u001b[1ml\u001b[22m\u001b[1mn\u001b[22m \u001b[1mp\u001b[22m\u001b[1mr\u001b[22m\u001b[1mi\u001b[22m\u001b[1mn\u001b[22m\u001b[1mt\u001b[22m_with_co\u001b[1ml\u001b[22mor \u001b[1mp\u001b[22m\u001b[1mr\u001b[22m\u001b[1mi\u001b[22m\u001b[1mn\u001b[22m\u001b[1mt\u001b[22m \u001b[1mp\u001b[22m\u001b[1mr\u001b[22m\u001b[1mi\u001b[22m\u001b[1mn\u001b[22m\u001b[1mt\u001b[22m_shortest s\u001b[1mp\u001b[22m\u001b[1mr\u001b[22m\u001b[1mi\u001b[22m\u001b[1mn\u001b[22m\u001b[1mt\u001b[22m @\u001b[1mp\u001b[22m\u001b[1mr\u001b[22m\u001b[1mi\u001b[22m\u001b[1mn\u001b[22m\u001b[1mt\u001b[22mf is\u001b[1mp\u001b[22m\u001b[1mr\u001b[22m\u001b[1mi\u001b[22m\u001b[1mn\u001b[22m\u001b[1mt\u001b[22m\n",
      "\n"
     ]
    },
    {
     "data": {
      "text/markdown": [
       "```\n",
       "println(io::IO, xs...)\n",
       "```\n",
       "\n",
       "Print (using [`print`](@ref)) `xs` followed by a newline. If `io` is not supplied, prints to [`STDOUT`](@ref).\n"
      ],
      "text/plain": [
       "```\n",
       "println(io::IO, xs...)\n",
       "```\n",
       "\n",
       "Print (using [`print`](@ref)) `xs` followed by a newline. If `io` is not supplied, prints to [`STDOUT`](@ref).\n"
      ]
     },
     "execution_count": 10,
     "metadata": {},
     "output_type": "execute_result"
    }
   ],
   "source": [
    "?println"
   ]
  },
  {
   "cell_type": "markdown",
   "metadata": {},
   "source": [
    "### Numeric types\n",
    "\n",
    "- Upgraded to the larger class.\n",
    "  - E.g., Adding integer and float converts the result to float\n",
    "- Numerical operations follow the BODMAS rule! \n",
    "- Operations are read from the left when they are of the same precedence\n",
    "  - E.g., `1/2/3 = (1/2)/3 = 1/6`\n",
    "- For the power operator `^` we evaluate the immediate operand of power, before computing the other value.\n",
    "  - E.g., `2^3/2 = (2^3) /2 = 4`\n",
    "  \n",
    "#### Order of precedence of the aritmetic operators\n",
    "\n",
    "1. Do the insideds of the paranthese first\n",
    "2. Do the exponentiation\n",
    "3. Do the multiplication and division from left to right\n",
    "4. Do the addition and subtraction from left to right\n"
   ]
  },
  {
   "cell_type": "code",
   "execution_count": 11,
   "metadata": {},
   "outputs": [
    {
     "data": {
      "text/plain": [
       "15.2"
      ]
     },
     "execution_count": 11,
     "metadata": {},
     "output_type": "execute_result"
    }
   ],
   "source": [
    "# Numeric example\n",
    "5 + 10.2"
   ]
  },
  {
   "cell_type": "code",
   "execution_count": 12,
   "metadata": {},
   "outputs": [
    {
     "name": "stdout",
     "output_type": "stream",
     "text": [
      "0.16666666666666666\n"
     ]
    }
   ],
   "source": [
    "# Operators are read from left to right \n",
    "println(1/2/3)"
   ]
  },
  {
   "cell_type": "code",
   "execution_count": 13,
   "metadata": {},
   "outputs": [
    {
     "name": "stdout",
     "output_type": "stream",
     "text": [
      "4.0\n"
     ]
    }
   ],
   "source": [
    "# Power operator is evaluated a bit special; \n",
    "# the operand immediately next to the power operator is associated with the power\n",
    "println(2^3/2)"
   ]
  },
  {
   "cell_type": "code",
   "execution_count": 14,
   "metadata": {},
   "outputs": [
    {
     "data": {
      "text/plain": [
       "-11.2"
      ]
     },
     "execution_count": 14,
     "metadata": {},
     "output_type": "execute_result"
    }
   ],
   "source": [
    "# Order of precedence of arithmetic operators\n",
    "0.2 + 0.1 - 3 * 6 / 4 - 1 - 2 * 3"
   ]
  },
  {
   "cell_type": "markdown",
   "metadata": {},
   "source": [
    "### Logical expressions\n",
    "\n",
    "- TRUE and FALSE computation; keywords: `true` and `false`\n",
    "- Logical operators `!` - Not; `&&` - And; `||` - Or\n",
    "- Logical operators make statemes a compound statement\n",
    "\n",
    "#### Comparison operators create `true` or `false` statements\n",
    "\n",
    "- Operators with usual meaning `<`, `>`, `<=`, `>=`, `==` and `!=`\n",
    "\n",
    "#### Operator precedence for logical expressions\n",
    "\n",
    "- E.g., consider the statement:\n",
    "`3 - 4 > 1 && 2 + 2 == 4 || 10 -5 > 2`\n",
    "- Julia parses this as follows:\n",
    "    - Add parantheses around the expressions:\n",
    "    `(3 - 4 > 1) && (2 + 2 == 4) || (10 - 5 > 2)`\n",
    "- Arithmetic operators have higher precedence than logical operators and comparisons\n",
    "    - The above is evaluated to get: `false && true || true = true`\n",
    "    \n",
    "#### Caution about mixing up with bitwise operators `|` and `&`\n",
    "\n",
    "- Julia has a strong type system, hence, will detect if we try to mix up logical and bitwise operators\n",
    "- However, this is a source of bug in many cases\n"
   ]
  },
   "cell_type": "code",
   "execution_count": null,
   "metadata": {},
   "outputs": [],
   "source": []
  }
 ],
 "metadata": {
  "kernelspec": {
   "display_name": "Julia 0.6.2",
   "language": "julia",
   "name": "julia-0.6"
  },
  "language_info": {
   "file_extension": ".jl",
   "mimetype": "application/julia",
   "name": "julia",
   "version": "0.6.2"
  }
 },
 "nbformat": 4,
 "nbformat_minor": 2
}

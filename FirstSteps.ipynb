{
 "cells": [
  {
   "cell_type": "markdown",
   "metadata": {},
   "source": [
    "# Julia - First steps"
   ]
  },
  {
   "cell_type": "code",
   "execution_count": 1,
   "metadata": {},
   "outputs": [
    {
     "data": {
      "text/plain": [
       "100"
      ]
     },
     "execution_count": 1,
     "metadata": {},
     "output_type": "execute_result"
    }
   ],
   "source": [
    "10^2"
   ]
  },
  {
   "cell_type": "code",
   "execution_count": 2,
   "metadata": {},
   "outputs": [
    {
     "data": {
      "text/plain": [
       "4040051"
      ]
     },
     "execution_count": 2,
     "metadata": {},
     "output_type": "execute_result"
    }
   ],
   "source": [
    "10 + 10\n",
    "2003 * 2017  # output is shown only for the last calculation"
   ]
  },
  {
   "cell_type": "markdown",
   "metadata": {},
   "source": [
    "## Julia - Features\n",
    "\n",
    "- Julia looks like an interpreted language, but it is not;\n",
    "\n",
    "\n",
    "## Running programs\n",
    "\n",
    "- IJulia Notebooks are good for exploratory learning and analysis.\n",
    "- Actual projects may be Julia code files with a `.jl` extension\n",
    "   \n",
    "## Installing IJulia kernel to existing `Jupyter`\n",
    "\n",
    "- My preferred choice for `jupyter` is to use the Anaconda's offering\n",
    "- Standalone IJulia kernel can be installed using the command `Pkg.add(\"IJulia\")` on the kernel\n",
    "- However, this creates a local copy of Miniconda and installs `Jupyter` on the local Miniconda installation.\n",
    "- To overcome this \"problem\":\n",
    "  - First create the environment variable `JUPYTER` and add the path of `Jupyter` to it\n",
    "    > `JUPYTER=\"<path-to-anaconda-scripts>\\jupyter\"` or use Windows environment variables to add `JUPYTER` \n",
    "  - Add `jupyter` to path, so that it is 'findable' by Julia\n",
    "    > `export PATH=$PATH:<path-to-jupyter>` or use Windows environment variables to set the path\n",
    "  - Next, open the Julia REPL and type:\n",
    "    > `ENV[\"JUPYTER\"]=\"jupyter\"; Pkg.add(\"IJulia\")` \n",
    "  - Since by virtue of `$PATH`, `jupyter` is visible to Julia, it won't install Miniconda again"
   ]
  },
  {
   "cell_type": "code",
   "execution_count": null,
   "metadata": {},
   "outputs": [],
   "source": []
  }
 ],
 "metadata": {
  "kernelspec": {
   "display_name": "Julia 0.6.2",
   "language": "julia",
   "name": "julia-0.6"
  },
  "language_info": {
   "file_extension": ".jl",
   "mimetype": "application/julia",
   "name": "julia",
   "version": "0.6.2"
  }
 },
 "nbformat": 4,
 "nbformat_minor": 2
}
